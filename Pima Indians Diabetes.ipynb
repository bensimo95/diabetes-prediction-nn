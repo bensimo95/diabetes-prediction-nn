{
 "cells": [
  {
   "cell_type": "code",
   "execution_count": 243,
   "id": "96a2fccc-7d8c-4f90-a0ae-e8c6503cbe1d",
   "metadata": {},
   "outputs": [],
   "source": [
    "import pandas as pd"
   ]
  },
  {
   "cell_type": "code",
   "execution_count": 244,
   "id": "6c40c4c5-2848-4002-92f5-0a0808d40c96",
   "metadata": {},
   "outputs": [
    {
     "data": {
      "text/html": [
       "<div>\n",
       "<style scoped>\n",
       "    .dataframe tbody tr th:only-of-type {\n",
       "        vertical-align: middle;\n",
       "    }\n",
       "\n",
       "    .dataframe tbody tr th {\n",
       "        vertical-align: top;\n",
       "    }\n",
       "\n",
       "    .dataframe thead th {\n",
       "        text-align: right;\n",
       "    }\n",
       "</style>\n",
       "<table border=\"1\" class=\"dataframe\">\n",
       "  <thead>\n",
       "    <tr style=\"text-align: right;\">\n",
       "      <th></th>\n",
       "      <th>Pregnancies</th>\n",
       "      <th>Glucose</th>\n",
       "      <th>BloodPressure</th>\n",
       "      <th>SkinThickness</th>\n",
       "      <th>Insulin</th>\n",
       "      <th>BMI</th>\n",
       "      <th>DiabetesPedigreeFunction</th>\n",
       "      <th>Age</th>\n",
       "      <th>Outcome</th>\n",
       "    </tr>\n",
       "  </thead>\n",
       "  <tbody>\n",
       "    <tr>\n",
       "      <th>0</th>\n",
       "      <td>6</td>\n",
       "      <td>148</td>\n",
       "      <td>72</td>\n",
       "      <td>35</td>\n",
       "      <td>0</td>\n",
       "      <td>33.6</td>\n",
       "      <td>0.627</td>\n",
       "      <td>50</td>\n",
       "      <td>1</td>\n",
       "    </tr>\n",
       "    <tr>\n",
       "      <th>1</th>\n",
       "      <td>1</td>\n",
       "      <td>85</td>\n",
       "      <td>66</td>\n",
       "      <td>29</td>\n",
       "      <td>0</td>\n",
       "      <td>26.6</td>\n",
       "      <td>0.351</td>\n",
       "      <td>31</td>\n",
       "      <td>0</td>\n",
       "    </tr>\n",
       "    <tr>\n",
       "      <th>2</th>\n",
       "      <td>8</td>\n",
       "      <td>183</td>\n",
       "      <td>64</td>\n",
       "      <td>0</td>\n",
       "      <td>0</td>\n",
       "      <td>23.3</td>\n",
       "      <td>0.672</td>\n",
       "      <td>32</td>\n",
       "      <td>1</td>\n",
       "    </tr>\n",
       "    <tr>\n",
       "      <th>3</th>\n",
       "      <td>1</td>\n",
       "      <td>89</td>\n",
       "      <td>66</td>\n",
       "      <td>23</td>\n",
       "      <td>94</td>\n",
       "      <td>28.1</td>\n",
       "      <td>0.167</td>\n",
       "      <td>21</td>\n",
       "      <td>0</td>\n",
       "    </tr>\n",
       "    <tr>\n",
       "      <th>4</th>\n",
       "      <td>0</td>\n",
       "      <td>137</td>\n",
       "      <td>40</td>\n",
       "      <td>35</td>\n",
       "      <td>168</td>\n",
       "      <td>43.1</td>\n",
       "      <td>2.288</td>\n",
       "      <td>33</td>\n",
       "      <td>1</td>\n",
       "    </tr>\n",
       "  </tbody>\n",
       "</table>\n",
       "</div>"
      ],
      "text/plain": [
       "   Pregnancies  Glucose  BloodPressure  SkinThickness  Insulin   BMI  \\\n",
       "0            6      148             72             35        0  33.6   \n",
       "1            1       85             66             29        0  26.6   \n",
       "2            8      183             64              0        0  23.3   \n",
       "3            1       89             66             23       94  28.1   \n",
       "4            0      137             40             35      168  43.1   \n",
       "\n",
       "   DiabetesPedigreeFunction  Age  Outcome  \n",
       "0                     0.627   50        1  \n",
       "1                     0.351   31        0  \n",
       "2                     0.672   32        1  \n",
       "3                     0.167   21        0  \n",
       "4                     2.288   33        1  "
      ]
     },
     "execution_count": 244,
     "metadata": {},
     "output_type": "execute_result"
    }
   ],
   "source": [
    "df = pd.read_csv(r'Pima Indians Diabetes Database\\diabetes.csv')\n",
    "df.head()"
   ]
  },
  {
   "cell_type": "code",
   "execution_count": 245,
   "id": "d62b7672-623b-4d9d-a150-4bd43bd79bb7",
   "metadata": {},
   "outputs": [
    {
     "data": {
      "text/plain": [
       "(768, 9)"
      ]
     },
     "execution_count": 245,
     "metadata": {},
     "output_type": "execute_result"
    }
   ],
   "source": [
    "df.shape"
   ]
  },
  {
   "cell_type": "markdown",
   "id": "eb65c301-2170-4ed3-97a7-09a3239ce03b",
   "metadata": {},
   "source": [
    "# compter les valeurs de 0"
   ]
  },
  {
   "cell_type": "code",
   "execution_count": 246,
   "id": "09199fd9-cb2d-4c81-84fd-56027c20e418",
   "metadata": {},
   "outputs": [
    {
     "data": {
      "text/plain": [
       "Pregnancies                 111\n",
       "Glucose                       5\n",
       "BloodPressure                35\n",
       "SkinThickness               227\n",
       "Insulin                     374\n",
       "BMI                          11\n",
       "DiabetesPedigreeFunction      0\n",
       "Age                           0\n",
       "Outcome                     500\n",
       "dtype: int64"
      ]
     },
     "execution_count": 246,
     "metadata": {},
     "output_type": "execute_result"
    }
   ],
   "source": [
    "df[df.loc[:,:]==0].count()"
   ]
  },
  {
   "cell_type": "code",
   "execution_count": 247,
   "id": "3e34ebaf-fd59-4e7d-b500-437a473c52eb",
   "metadata": {},
   "outputs": [
    {
     "name": "stdout",
     "output_type": "stream",
     "text": [
      "<class 'pandas.core.frame.DataFrame'>\n",
      "RangeIndex: 768 entries, 0 to 767\n",
      "Data columns (total 9 columns):\n",
      " #   Column                    Non-Null Count  Dtype  \n",
      "---  ------                    --------------  -----  \n",
      " 0   Pregnancies               768 non-null    int64  \n",
      " 1   Glucose                   768 non-null    int64  \n",
      " 2   BloodPressure             768 non-null    int64  \n",
      " 3   SkinThickness             768 non-null    int64  \n",
      " 4   Insulin                   768 non-null    int64  \n",
      " 5   BMI                       768 non-null    float64\n",
      " 6   DiabetesPedigreeFunction  768 non-null    float64\n",
      " 7   Age                       768 non-null    int64  \n",
      " 8   Outcome                   768 non-null    int64  \n",
      "dtypes: float64(2), int64(7)\n",
      "memory usage: 54.1 KB\n"
     ]
    }
   ],
   "source": [
    "df.info()"
   ]
  },
  {
   "cell_type": "code",
   "execution_count": 248,
   "id": "3dfe7281-012e-43b2-ada4-7ab4c2e0468e",
   "metadata": {},
   "outputs": [
    {
     "data": {
      "text/plain": [
       "Pregnancies                 0\n",
       "Glucose                     0\n",
       "BloodPressure               0\n",
       "SkinThickness               0\n",
       "Insulin                     0\n",
       "BMI                         0\n",
       "DiabetesPedigreeFunction    0\n",
       "Age                         0\n",
       "Outcome                     0\n",
       "dtype: int64"
      ]
     },
     "execution_count": 248,
     "metadata": {},
     "output_type": "execute_result"
    }
   ],
   "source": [
    "df.isnull().sum()"
   ]
  },
  {
   "cell_type": "code",
   "execution_count": 249,
   "id": "11d32251-93ee-49ba-a7e0-35d255700e57",
   "metadata": {},
   "outputs": [
    {
     "data": {
      "text/plain": [
       "0"
      ]
     },
     "execution_count": 249,
     "metadata": {},
     "output_type": "execute_result"
    }
   ],
   "source": [
    "df.duplicated().sum()"
   ]
  },
  {
   "cell_type": "markdown",
   "id": "3f35c328-d3fd-46fe-9b13-ecb4caaca2d9",
   "metadata": {},
   "source": [
    "# afficher les valeurs aberantes avec boxplot"
   ]
  },
  {
   "cell_type": "code",
   "execution_count": 250,
   "id": "88a2e964-8246-40b0-b190-07c50189e96c",
   "metadata": {},
   "outputs": [
    {
     "data": {
      "text/plain": [
       "<Axes: >"
      ]
     },
     "execution_count": 250,
     "metadata": {},
     "output_type": "execute_result"
    },
    {
     "data": {
      "image/png": "[encoded data removed]",
      "text/plain": [
       "<Figure size 640x480 with 1 Axes>"
      ]
     },
     "metadata": {},
     "output_type": "display_data"
    }
   ],
   "source": [
    "df.boxplot()"
   ]
  },
  {
   "cell_type": "code",
   "execution_count": 251,
   "id": "42b9ec9f-fa50-4fcc-88ff-eb39b5a19a03",
   "metadata": {},
   "outputs": [],
   "source": [
    "#df_columns = ['price', 'minimum_nights', 'number_of_reviews', 'reviews_per_month', 'calculated_host_listings_count', 'availability_365']\n",
    "\n",
    "for col in df.columns :\n",
    "    Q1 = df[col].quantile(0.25)\n",
    "    Q3 = df[col].quantile(0.75)\n",
    "    IQR = Q3 - Q1\n",
    "    \n",
    "    # Définir les limites pour les valeurs aberrantes\n",
    "    lower_bound = Q1 - 1.5 * IQR\n",
    "    upper_bound = Q3 + 1.5 * IQR\n",
    "    \n",
    "    # Identifier les valeurs aberrantes\n",
    "    outliers = df[(df[col] < lower_bound) | (df[col] > upper_bound)]\n",
    "\n",
    "    # Remplacer les valeurs aberrantes par les limites\n",
    "    df[col] = df[col].clip(lower_bound, upper_bound)"
   ]
  },
  {
   "cell_type": "code",
   "execution_count": 252,
   "id": "688830b7-761f-475f-9acc-285887d64b29",
   "metadata": {
    "scrolled": true
   },
   "outputs": [
    {
     "data": {
      "text/plain": [
       "<Axes: >"
      ]
     },
     "execution_count": 252,
     "metadata": {},
     "output_type": "execute_result"
    },
    {
     "data": {
      "image/png": "[encoded data removed]",
      "text/plain": [
       "<Figure size 640x480 with 1 Axes>"
      ]
     },
     "metadata": {},
     "output_type": "display_data"
    }
   ],
   "source": [
    "df.boxplot()"
   ]
  },
  {
   "cell_type": "markdown",
   "id": "fd370da8-9d5f-4dcc-9dad-35f7067f28db",
   "metadata": {},
   "source": [
    "# remplacer 0 par la median"
   ]
  },
  {
   "cell_type": "code",
   "execution_count": 253,
   "id": "2ad0f053-d67e-4972-8749-85c39b0b34cb",
   "metadata": {},
   "outputs": [],
   "source": [
    "cols_ivalid_zero = ['Glucose', 'BloodPressure', 'SkinThickness', 'Insulin', 'BMI']\n",
    "for i in cols_ivalid_zero :\n",
    "    median = df[i].median()\n",
    "    df[i] = df[i].replace(0,median)"
   ]
  },
  {
   "cell_type": "code",
   "execution_count": 254,
   "id": "62bf389c-d9f0-48f1-9f2a-2b9d1e52804f",
   "metadata": {},
   "outputs": [
    {
     "data": {
      "text/plain": [
       "Pregnancies                 111\n",
       "Glucose                       0\n",
       "BloodPressure                 0\n",
       "SkinThickness                 0\n",
       "Insulin                       0\n",
       "BMI                           0\n",
       "DiabetesPedigreeFunction      0\n",
       "Age                           0\n",
       "Outcome                     500\n",
       "dtype: int64"
      ]
     },
     "execution_count": 254,
     "metadata": {},
     "output_type": "execute_result"
    }
   ],
   "source": [
    "df[df.loc[:,:]==0].count()"
   ]
  },
  {
   "cell_type": "code",
   "execution_count": 255,
   "id": "4f4e3a8b-a7cc-4ea6-8dd7-c43626920db5",
   "metadata": {},
   "outputs": [
    {
     "data": {
      "text/html": [
       "<div>\n",
       "<style scoped>\n",
       "    .dataframe tbody tr th:only-of-type {\n",
       "        vertical-align: middle;\n",
       "    }\n",
       "\n",
       "    .dataframe tbody tr th {\n",
       "        vertical-align: top;\n",
       "    }\n",
       "\n",
       "    .dataframe thead th {\n",
       "        text-align: right;\n",
       "    }\n",
       "</style>\n",
       "<table border=\"1\" class=\"dataframe\">\n",
       "  <thead>\n",
       "    <tr style=\"text-align: right;\">\n",
       "      <th></th>\n",
       "      <th>Pregnancies</th>\n",
       "      <th>Glucose</th>\n",
       "      <th>BloodPressure</th>\n",
       "      <th>SkinThickness</th>\n",
       "      <th>Insulin</th>\n",
       "      <th>BMI</th>\n",
       "      <th>DiabetesPedigreeFunction</th>\n",
       "      <th>Age</th>\n",
       "      <th>Outcome</th>\n",
       "    </tr>\n",
       "  </thead>\n",
       "  <tbody>\n",
       "    <tr>\n",
       "      <th>0</th>\n",
       "      <td>6.0</td>\n",
       "      <td>148.0</td>\n",
       "      <td>72</td>\n",
       "      <td>35</td>\n",
       "      <td>30.5</td>\n",
       "      <td>33.6</td>\n",
       "      <td>0.627</td>\n",
       "      <td>50.0</td>\n",
       "      <td>1</td>\n",
       "    </tr>\n",
       "    <tr>\n",
       "      <th>1</th>\n",
       "      <td>1.0</td>\n",
       "      <td>85.0</td>\n",
       "      <td>66</td>\n",
       "      <td>29</td>\n",
       "      <td>30.5</td>\n",
       "      <td>26.6</td>\n",
       "      <td>0.351</td>\n",
       "      <td>31.0</td>\n",
       "      <td>0</td>\n",
       "    </tr>\n",
       "    <tr>\n",
       "      <th>2</th>\n",
       "      <td>8.0</td>\n",
       "      <td>183.0</td>\n",
       "      <td>64</td>\n",
       "      <td>23</td>\n",
       "      <td>30.5</td>\n",
       "      <td>23.3</td>\n",
       "      <td>0.672</td>\n",
       "      <td>32.0</td>\n",
       "      <td>1</td>\n",
       "    </tr>\n",
       "    <tr>\n",
       "      <th>3</th>\n",
       "      <td>1.0</td>\n",
       "      <td>89.0</td>\n",
       "      <td>66</td>\n",
       "      <td>23</td>\n",
       "      <td>94.0</td>\n",
       "      <td>28.1</td>\n",
       "      <td>0.167</td>\n",
       "      <td>21.0</td>\n",
       "      <td>0</td>\n",
       "    </tr>\n",
       "    <tr>\n",
       "      <th>4</th>\n",
       "      <td>0.0</td>\n",
       "      <td>137.0</td>\n",
       "      <td>40</td>\n",
       "      <td>35</td>\n",
       "      <td>168.0</td>\n",
       "      <td>43.1</td>\n",
       "      <td>1.200</td>\n",
       "      <td>33.0</td>\n",
       "      <td>1</td>\n",
       "    </tr>\n",
       "  </tbody>\n",
       "</table>\n",
       "</div>"
      ],
      "text/plain": [
       "   Pregnancies  Glucose  BloodPressure  SkinThickness  Insulin   BMI  \\\n",
       "0          6.0    148.0             72             35     30.5  33.6   \n",
       "1          1.0     85.0             66             29     30.5  26.6   \n",
       "2          8.0    183.0             64             23     30.5  23.3   \n",
       "3          1.0     89.0             66             23     94.0  28.1   \n",
       "4          0.0    137.0             40             35    168.0  43.1   \n",
       "\n",
       "   DiabetesPedigreeFunction   Age  Outcome  \n",
       "0                     0.627  50.0        1  \n",
       "1                     0.351  31.0        0  \n",
       "2                     0.672  32.0        1  \n",
       "3                     0.167  21.0        0  \n",
       "4                     1.200  33.0        1  "
      ]
     },
     "execution_count": 255,
     "metadata": {},
     "output_type": "execute_result"
    }
   ],
   "source": [
    "df.head()"
   ]
  },
  {
   "cell_type": "markdown",
   "id": "f2b346ee-0a36-4450-a205-05df25c32f91",
   "metadata": {},
   "source": [
    "# data split"
   ]
  },
  {
   "cell_type": "code",
   "execution_count": 256,
   "id": "3fafdad0-b3b9-4239-90b3-dcc0b581d11c",
   "metadata": {},
   "outputs": [],
   "source": [
    "from sklearn.model_selection import train_test_split\n",
    "from sklearn.preprocessing import StandardScaler\n",
    "import numpy as np\n",
    "#separation de X et y\n",
    "X = df.drop('Outcome',axis = 1)\n",
    "y = df['Outcome']\n",
    "scaler = StandardScaler()\n",
    "X = scaler.fit_transform(X)\n",
    "X_train,X_test,y_train,y_test = train_test_split(X,y,test_size = 0.2 ,stratify = y ,random_state = 11 )"
   ]
  },
  {
   "cell_type": "code",
   "execution_count": null,
   "id": "143c5943-a040-41d1-9f3d-9e35e523931d",
   "metadata": {},
   "outputs": [],
   "source": []
  },
  {
   "cell_type": "code",
   "execution_count": 257,
   "id": "6362ac00-23d7-4598-950a-a9cda3825cfb",
   "metadata": {},
   "outputs": [
    {
     "data": {
      "text/plain": [
       "'class NeuralNetwork:\\n    def __init__(self, layer_sizes, learning_rate=0.01):\\n        self.layer_sizes = layer_sizes\\n        self.learning_rate = learning_rate\\n        self.weights = []\\n        self.biases = []\\n\\n        np.random.seed(42)\\n        for i in range(len(layer_sizes) - 1):\\n            w = np.random.randn(layer_sizes[i], layer_sizes[i+1]) * np.sqrt(2. / layer_sizes[i])\\n            b = np.zeros((1, layer_sizes[i+1]))\\n            self.weights.append(w)\\n            self.biases.append(b)\\n\\n        self.activations = []\\n        self.z_values = []\\n\\n    def train(self, X, y, X_val, y_val, epochs=100, batch_size=32):\\n        from sklearn.metrics import accuracy_score\\n\\n        train_losses = []\\n        val_losses = []\\n        train_accuracies = []\\n        val_accuracies = []\\n\\n        m = X.shape[0]\\n\\n        for epoch in range(epochs):\\n            # Mélanger les données\\n            indices = np.random.permutation(m)\\n            X_shuffled = X[indices]\\n            y_shuffled = y[indices]\\n\\n            epoch_loss = 0\\n\\n            for i in range(0, m, batch_size):\\n                X_batch = X_shuffled[i:i+batch_size]\\n                y_batch = y_shuffled[i:i+batch_size]\\n\\n                outputs = self.forward(X_batch)\\n                loss = self.compute_loss(y_batch, outputs)\\n                epoch_loss += loss\\n\\n                self.backward(X_batch, y_batch, outputs)\\n\\n                # Mise à jour des poids et biais\\n                for l in range(len(self.weights)):\\n                    self.weights[l] -= self.learning_rate * self.d_weights[l]\\n                    self.biases[l]  -= self.learning_rate * self.d_biases[l]\\n\\n            # Moyenne de la perte\\n            train_loss = epoch_loss / (m // batch_size)\\n            train_losses.append(train_loss)\\n\\n            # Accuracy sur train et val\\n            train_preds = self.predict(X)\\n            train_accuracy = accuracy_score(y, train_preds)\\n            train_accuracies.append(train_accuracy)\\n\\n            val_outputs = self.forward(X_val)\\n            val_loss = self.compute_loss(y_val, val_outputs)\\n            val_losses.append(val_loss)\\n\\n            val_preds = self.predict(X_val)\\n            val_accuracy = accuracy_score(y_val, val_preds)\\n            val_accuracies.append(val_accuracy)\\n\\n            if epoch % 10 == 0 or epoch == epochs - 1:\\n                print(f\"Epoch {epoch+1}/{epochs} - Train Loss: {train_loss:.4f} - Val Loss: {val_loss:.4f} - \"\\n                      f\"Train Acc: {train_accuracy:.4f} - Val Acc: {val_accuracy:.4f}\")\\n\\n        return train_losses, val_losses, train_accuracies, val_accuracies\\n'"
      ]
     },
     "execution_count": 257,
     "metadata": {},
     "output_type": "execute_result"
    }
   ],
   "source": [
    "\"\"\"class NeuralNetwork:\n",
    "    def __init__(self, layer_sizes, learning_rate=0.01):\n",
    "        self.layer_sizes = layer_sizes\n",
    "        self.learning_rate = learning_rate\n",
    "        self.weights = []\n",
    "        self.biases = []\n",
    "\n",
    "        np.random.seed(42)\n",
    "        for i in range(len(layer_sizes) - 1):\n",
    "            w = np.random.randn(layer_sizes[i], layer_sizes[i+1]) * np.sqrt(2. / layer_sizes[i])\n",
    "            b = np.zeros((1, layer_sizes[i+1]))\n",
    "            self.weights.append(w)\n",
    "            self.biases.append(b)\n",
    "\n",
    "        self.activations = []\n",
    "        self.z_values = []\n",
    "\n",
    "    def train(self, X, y, X_val, y_val, epochs=100, batch_size=32):\n",
    "        from sklearn.metrics import accuracy_score\n",
    "\n",
    "        train_losses = []\n",
    "        val_losses = []\n",
    "        train_accuracies = []\n",
    "        val_accuracies = []\n",
    "\n",
    "        m = X.shape[0]\n",
    "\n",
    "        for epoch in range(epochs):\n",
    "            # Mélanger les données\n",
    "            indices = np.random.permutation(m)\n",
    "            X_shuffled = X[indices]\n",
    "            y_shuffled = y[indices]\n",
    "\n",
    "            epoch_loss = 0\n",
    "\n",
    "            for i in range(0, m, batch_size):\n",
    "                X_batch = X_shuffled[i:i+batch_size]\n",
    "                y_batch = y_shuffled[i:i+batch_size]\n",
    "\n",
    "                outputs = self.forward(X_batch)\n",
    "                loss = self.compute_loss(y_batch, outputs)\n",
    "                epoch_loss += loss\n",
    "\n",
    "                self.backward(X_batch, y_batch, outputs)\n",
    "\n",
    "                # Mise à jour des poids et biais\n",
    "                for l in range(len(self.weights)):\n",
    "                    self.weights[l] -= self.learning_rate * self.d_weights[l]\n",
    "                    self.biases[l]  -= self.learning_rate * self.d_biases[l]\n",
    "\n",
    "            # Moyenne de la perte\n",
    "            train_loss = epoch_loss / (m // batch_size)\n",
    "            train_losses.append(train_loss)\n",
    "\n",
    "            # Accuracy sur train et val\n",
    "            train_preds = self.predict(X)\n",
    "            train_accuracy = accuracy_score(y, train_preds)\n",
    "            train_accuracies.append(train_accuracy)\n",
    "\n",
    "            val_outputs = self.forward(X_val)\n",
    "            val_loss = self.compute_loss(y_val, val_outputs)\n",
    "            val_losses.append(val_loss)\n",
    "\n",
    "            val_preds = self.predict(X_val)\n",
    "            val_accuracy = accuracy_score(y_val, val_preds)\n",
    "            val_accuracies.append(val_accuracy)\n",
    "\n",
    "            if epoch % 10 == 0 or epoch == epochs - 1:\n",
    "                print(f\"Epoch {epoch+1}/{epochs} - Train Loss: {train_loss:.4f} - Val Loss: {val_loss:.4f} - \"\n",
    "                      f\"Train Acc: {train_accuracy:.4f} - Val Acc: {val_accuracy:.4f}\")\n",
    "\n",
    "        return train_losses, val_losses, train_accuracies, val_accuracies\n",
    "\"\"\""
   ]
  },
  {
   "cell_type": "code",
   "execution_count": null,
   "id": "9ec50d13-87e4-4014-8ec5-b6ff2d8de5a4",
   "metadata": {},
   "outputs": [],
   "source": []
  },
  {
   "cell_type": "code",
   "execution_count": null,
   "id": "1f601ee0-da6f-4583-bc9b-152684133109",
   "metadata": {},
   "outputs": [],
   "source": [
    "\n"
   ]
  },
  {
   "cell_type": "markdown",
   "id": "ac1381a7-c07b-4d69-b4a5-39bcaaefe26c",
   "metadata": {},
   "source": [
    "# code"
   ]
  },
  {
   "cell_type": "code",
   "execution_count": 258,
   "id": "4f40499c-0c9f-475e-996d-8ad8b314b924",
   "metadata": {},
   "outputs": [],
   "source": [
    "import numpy as np\n",
    "import pandas as pd\n",
    "from sklearn.model_selection import train_test_split\n",
    "from sklearn.metrics import confusion_matrix, classification_report\n",
    "import matplotlib.pyplot as plt\n",
    "import seaborn as sns\n",
    "\n",
    "# -------------------------------\n",
    "# Fonctions d’activation\n",
    "# -------------------------------\n",
    "\n",
    "def relu(x):\n",
    "    \"\"\"\n",
    "    ReLU activation : max(0, x)\n",
    "    \"\"\"\n",
    "    assert isinstance(x, np.ndarray), \"Input to ReLU must be a numpy array\"\n",
    "    result = np.maximum(0, x)\n",
    "    assert np.all(result >= 0), \"ReLU output must be non-negative\"\n",
    "    return result\n",
    "\n",
    "def relu_derivative(x):\n",
    "    \"\"\"\n",
    "    Derivative of ReLU: 1 if x > 0, else 0\n",
    "    \"\"\"\n",
    "    assert isinstance(x, np.ndarray), \"Input to ReLU derivative must be a numpy array\"\n",
    "    result = np.where(x > 0, 1, 0)\n",
    "    assert np.all((result == 0) | (result == 1)), \"ReLU derivative must be 0 or 1\"\n",
    "    return result\n",
    "\n",
    "def sigmoid(x):\n",
    "    \"\"\"\n",
    "    Sigmoid activation : 1 / (1 + exp(-x))\n",
    "    \"\"\"\n",
    "    assert isinstance(x, np.ndarray), \"Input to sigmoid must be a numpy array\"\n",
    "    result = 1 / (1 + np.exp(-x))\n",
    "    assert np.all((result >= 0) & (result <= 1)), \"Sigmoid output must be in [0, 1]\"\n",
    "    return result\n",
    "\n",
    "def sigmoid_derivative(x):\n",
    "    \"\"\"\n",
    "    Derivative of sigmoid: sigmoid(x) * (1 - sigmoid(x))\n",
    "    \"\"\"\n",
    "    assert isinstance(x, np.ndarray), \"Input to sigmoid derivative must be a numpy array\"\n",
    "    s = sigmoid(x)\n",
    "    result = s * (1 - s)\n",
    "    assert np.all((result >= 0) & (result <= 0.25)), \"Sigmoid derivative must be in [0, 0.25]\"\n",
    "    return result\n"
   ]
  },
  {
   "cell_type": "code",
   "execution_count": 259,
   "id": "33da21b1-3b6a-4f77-a1a2-b292d9b9a201",
   "metadata": {},
   "outputs": [
    {
     "name": "stderr",
     "output_type": "stream",
     "text": [
      "C:\\Users\\ADMIN_SB\\AppData\\Local\\Temp\\ipykernel_10616\\1850036872.py:6: FutureWarning: Series.ravel is deprecated. The underlying array is already 1D, so ravel is not necessary.  Use `to_numpy()` for conversion to a numpy array instead.\n",
      "  y=y_train.ravel())\n"
     ]
    }
   ],
   "source": [
    "from sklearn.utils import class_weight\n",
    "\n",
    "# Calcul des poids de classes à partir de y_train\n",
    "weights = class_weight.compute_class_weight(class_weight='balanced',\n",
    "                                             classes=np.unique(y_train),\n",
    "                                             y=y_train.ravel())\n",
    "class_weights_dict = {0: weights[0], 1: weights[1]}\n"
   ]
  },
  {
   "cell_type": "code",
   "execution_count": null,
   "id": "08cff2dd-2ed0-41a3-a59e-522a1fece3d5",
   "metadata": {},
   "outputs": [],
   "source": []
  },
  {
   "cell_type": "code",
   "execution_count": 260,
   "id": "b7a5b83f-6e7c-4db6-8339-ea78d4321016",
   "metadata": {},
   "outputs": [],
   "source": [
    "import numpy as np\n",
    "import pandas as pd\n",
    "from sklearn.model_selection import train_test_split\n",
    "from sklearn.metrics import classification_report, confusion_matrix\n",
    "import matplotlib.pyplot as plt\n",
    "\n",
    "def sigmoid(z):\n",
    "    return 1 / (1 + np.exp(-z))\n",
    "\n",
    "def sigmoid_derivative(a):\n",
    "    return a * (1 - a)\n",
    "\n",
    "class NeuralNetwork:\n",
    "    def __init__(self, layer_sizes, learning_rate=0.01, l2_lambda=0.0):\n",
    "        \"\"\"\n",
    "        Initialize the neural network with given layer sizes and learning rate.\n",
    "        layer_sizes : list of int [input_size, hidden1_size, ..., output_size]\n",
    "        learning_rate : float\n",
    "        l2_lambda : float, coefficient for L2 regularization\n",
    "        \"\"\"\n",
    "        assert isinstance(layer_sizes, list) and len(layer_sizes) >= 2, \"layer_sizes must be a list with at least 2 elements\"\n",
    "        assert all(isinstance(size, int) and size > 0 for size in layer_sizes), \"All layer sizes must be positive integers\"\n",
    "        assert isinstance(learning_rate, (int, float)) and learning_rate > 0, \"Learning rate must be positive\"\n",
    "        assert isinstance(l2_lambda, (int, float)) and l2_lambda >= 0, \"L2 regularization must be non-negative\"\n",
    "\n",
    "        self.layer_sizes = layer_sizes\n",
    "        self.learning_rate = learning_rate\n",
    "        self.l2_lambda = l2_lambda\n",
    "\n",
    "        self.weights = []\n",
    "        self.biases = []\n",
    "\n",
    "        np.random.seed(42)\n",
    "        # Initialize weights with Xavier initialization and biases with zeros\n",
    "        for i in range(len(layer_sizes) - 1):\n",
    "            w = np.random.randn(layer_sizes[i], layer_sizes[i + 1]) * np.sqrt(2 / layer_sizes[i])\n",
    "            b = np.zeros((1, layer_sizes[i + 1]))\n",
    "            assert w.shape == (layer_sizes[i], layer_sizes[i + 1]), f\"Weight matrix {i + 1} has incorrect shape\"\n",
    "            assert b.shape == (1, layer_sizes[i + 1]), f\"Bias vector {i + 1} has incorrect shape\"\n",
    "            self.weights.append(w)\n",
    "            self.biases.append(b)\n",
    "\n",
    "    def forward(self, X):\n",
    "        \"\"\"\n",
    "        Forward propagation:\n",
    "        Z^{[l]} = A^{[l-1]} W^{[l]} + b^{[l]}\n",
    "        A^{[l]} = g(Z^{[l]}) with sigmoid activation\n",
    "        \"\"\"\n",
    "        assert isinstance(X, np.ndarray), \"Input X must be a numpy array\"\n",
    "        assert X.shape[1] == self.layer_sizes[0], f\"Input dimension ({X.shape[1]}) must match input layer size ({self.layer_sizes[0]})\"\n",
    "\n",
    "        self.activations = [X]\n",
    "        self.z_values = []\n",
    "\n",
    "        for i in range(len(self.weights)):\n",
    "            z = np.dot(self.activations[-1], self.weights[i]) + self.biases[i]\n",
    "            assert z.shape == (X.shape[0], self.layer_sizes[i + 1]), f\"Z^{i + 1} has incorrect shape\"\n",
    "            self.z_values.append(z)\n",
    "            a = sigmoid(z)\n",
    "            self.activations.append(a)\n",
    "\n",
    "        assert self.activations[-1].shape == (X.shape[0], self.layer_sizes[-1]), \"Output activation has incorrect shape\"\n",
    "        return self.activations[-1]\n",
    "\n",
    "    def compute_loss(self, y_true, y_pred):\n",
    "        \"\"\"\n",
    "        Binary Cross-Entropy loss:\n",
    "        J = -1/m * sum(y*log(y_pred) + (1-y)*log(1-y_pred))\n",
    "        \"\"\"\n",
    "        assert isinstance(y_true, np.ndarray) and isinstance(y_pred, np.ndarray), \"Inputs to loss must be numpy arrays\"\n",
    "        assert y_true.shape == y_pred.shape, \"y_true and y_pred must have the same shape\"\n",
    "        assert np.all((y_true == 0) | (y_true == 1)), \"y_true must contain only 0s and 1s\"\n",
    "\n",
    "        m = y_true.shape[0]\n",
    "        # Add small epsilon to avoid log(0)\n",
    "        epsilon = 1e-8\n",
    "        loss = -np.sum(y_true * np.log(y_pred + epsilon) + (1 - y_true) * np.log(1 - y_pred + epsilon)) / m\n",
    "\n",
    "        # Add L2 regularization loss\n",
    "        if self.l2_lambda > 0:\n",
    "            l2_loss = 0.5 * self.l2_lambda * sum(np.sum(w ** 2) for w in self.weights)\n",
    "            loss += l2_loss / m\n",
    "\n",
    "        assert not np.isnan(loss), \"Loss computation resulted in NaN\"\n",
    "        return loss\n",
    "\n",
    "    def compute_accuracy(self, y_true, y_pred):\n",
    "        \"\"\"\n",
    "        Compute accuracy : proportion of correct predictions\n",
    "        \"\"\"\n",
    "        assert isinstance(y_true, np.ndarray) and isinstance(y_pred, np.ndarray), \"Inputs to accuracy must be numpy arrays\"\n",
    "        assert y_true.shape == y_pred.shape, \"y_true and y_pred must have the same shape\"\n",
    "\n",
    "        preds = (y_pred >= 0.5).astype(int)\n",
    "        accuracy = np.mean(preds == y_true)\n",
    "        assert 0 <= accuracy <= 1, \"Accuracy must be between 0 and 1\"\n",
    "        return accuracy\n",
    "\n",
    "    def backward(self, X, y, outputs):\n",
    "        \"\"\"\n",
    "        Backpropagation : compute gradients dW^{[l]}, db^{[l]} for each layer\n",
    "        \"\"\"\n",
    "        assert isinstance(X, np.ndarray) and isinstance(y, np.ndarray) and isinstance(outputs, np.ndarray), \"Inputs to backward must be numpy arrays\"\n",
    "        assert X.shape[1] == self.layer_sizes[0], f\"Input dimension ({X.shape[1]}) must match input layer size ({self.layer_sizes[0]})\"\n",
    "        assert y.shape == outputs.shape, \"y and outputs must have the same shape\"\n",
    "\n",
    "        m = X.shape[0]\n",
    "        self.d_weights = [np.zeros_like(w) for w in self.weights]\n",
    "        self.d_biases = [np.zeros_like(b) for b in self.biases]\n",
    "\n",
    "        # Output layer error\n",
    "        dZ = outputs - y\n",
    "        assert dZ.shape == outputs.shape, \"dZ for output layer has incorrect shape\"\n",
    "\n",
    "        self.d_weights[-1] = (self.activations[-2].T @ dZ) / m\n",
    "        self.d_biases[-1] = np.sum(dZ, axis=0, keepdims=True) / m\n",
    "\n",
    "        # Backpropagate through hidden layers\n",
    "        for i in range(len(self.weights) - 2, -1, -1):\n",
    "            dA = dZ @ self.weights[i + 1].T\n",
    "            dZ = dA * sigmoid_derivative(self.activations[i + 1])\n",
    "            assert dZ.shape == (m, self.layer_sizes[i + 1]), f\"dZ at layer {i + 1} has incorrect shape\"\n",
    "            self.d_weights[i] = (self.activations[i].T @ dZ) / m\n",
    "\n",
    "            # Add L2 regularization to weight gradients\n",
    "            if self.l2_lambda > 0:\n",
    "                self.d_weights[i] += (self.l2_lambda / m) * self.weights[i]\n",
    "\n",
    "            self.d_biases[i] = np.sum(dZ, axis=0, keepdims=True) / m\n",
    "\n",
    "        # Update weights and biases using gradient descent\n",
    "        for i in range(len(self.weights)):\n",
    "            self.weights[i] -= self.learning_rate * self.d_weights[i]\n",
    "            self.biases[i] -= self.learning_rate * self.d_biases[i]\n",
    "\n",
    "    def train(self, X, y, X_val, y_val, epochs, batch_size):\n",
    "        \"\"\"\n",
    "        Train the neural network using mini-batch SGD, with validation\n",
    "        \"\"\"\n",
    "        assert isinstance(X, np.ndarray) and isinstance(y, np.ndarray), \"X and y must be numpy arrays\"\n",
    "        assert isinstance(X_val, np.ndarray) and isinstance(y_val, np.ndarray), \"X_val and y_val must be numpy arrays\"\n",
    "        assert X.shape[1] == self.layer_sizes[0], f\"Input dimension ({X.shape[1]}) must match input layer size ({self.layer_sizes[0]})\"\n",
    "        assert y.shape[1] == self.layer_sizes[-1], f\"Output dimension ({y.shape[1]}) must match output layer size ({self.layer_sizes[-1]})\"\n",
    "        assert X_val.shape[1] == self.layer_sizes[0], f\"Validation input dimension ({X_val.shape[1]}) must match input layer size ({self.layer_sizes[0]})\"\n",
    "        assert y_val.shape[1] == self.layer_sizes[-1], f\"Validation output dimension ({y_val.shape[1]}) must match output layer size ({self.layer_sizes[-1]})\"\n",
    "        assert isinstance(epochs, int) and epochs > 0, \"Epochs must be a positive integer\"\n",
    "        assert isinstance(batch_size, int) and batch_size > 0, \"Batch size must be a positive integer\"\n",
    "\n",
    "        train_losses = []\n",
    "        val_losses = []\n",
    "        train_accuracies = []\n",
    "        val_accuracies = []\n",
    "\n",
    "        for epoch in range(epochs):\n",
    "            indices = np.random.permutation(X.shape[0])\n",
    "            X_shuffled = X[indices]\n",
    "            y_shuffled = y[indices]\n",
    "\n",
    "            epoch_loss = 0\n",
    "            for i in range(0, X.shape[0], batch_size):\n",
    "                X_batch = X_shuffled[i:i + batch_size]\n",
    "                y_batch = y_shuffled[i:i + batch_size]\n",
    "\n",
    "                outputs = self.forward(X_batch)\n",
    "                epoch_loss += self.compute_loss(y_batch, outputs)\n",
    "                self.backward(X_batch, y_batch, outputs)\n",
    "\n",
    "            train_loss = epoch_loss / (X.shape[0] / batch_size)\n",
    "\n",
    "            # Validation loss and accuracy\n",
    "            val_outputs = self.forward(X_val)\n",
    "            val_loss = self.compute_loss(y_val, val_outputs)\n",
    "\n",
    "            train_accuracy = self.compute_accuracy(y, self.forward(X))\n",
    "            val_accuracy = self.compute_accuracy(y_val, val_outputs)\n",
    "\n",
    "            train_losses.append(train_loss)\n",
    "            val_losses.append(val_loss)\n",
    "            train_accuracies.append(train_accuracy)\n",
    "            val_accuracies.append(val_accuracy)\n",
    "\n",
    "            if epoch % 10 == 0:\n",
    "                print(f\"Epoch {epoch}, Train Loss: {train_loss:.4f}, Val Loss: {val_loss:.4f}, Train Acc: {train_accuracy:.4f}, Val Acc: {val_accuracy:.4f}\")\n",
    "\n",
    "        return train_losses, val_losses, train_accuracies, val_accuracies\n",
    "\n",
    "    def predict(self, X):\n",
    "        \"\"\"\n",
    "        Predict class labels (0 or 1)\n",
    "        \"\"\"\n",
    "        assert isinstance(X, np.ndarray), \"Input X must be a numpy array\"\n",
    "        assert X.shape[1] == self.layer_sizes[0], f\"Input dimension ({X.shape[1]}) must match input layer size ({self.layer_sizes[0]})\"\n",
    "\n",
    "        outputs = self.forward(X)\n",
    "        predictions = (outputs >= 0.5).astype(int)\n",
    "        assert predictions.shape == (X.shape[0], self.layer_sizes[-1]), \"Predictions have incorrect shape\"\n",
    "        return predictions\n",
    "\n",
    "# Exemple d'utilisation avec le dataset diabetes.csv\n",
    "\n",
    "# Charger et préparer les données\n",
    "data = df.copy()\n",
    "\n",
    "# Séparer les features et la cible\n",
    "X = data.iloc[:, :-1].values\n",
    "y = data.iloc[:, -1].values.reshape(-1, 1)\n",
    "\n",
    "assert X.shape[0] == y.shape[0], \"Number of samples in X and y must match\"\n",
    "assert X.shape[1] == 8, \"Expected 8 features in input data\"\n",
    "\n",
    "# Standardisation : (X - mu) / sigma\n",
    "mu = X.mean(axis=0)\n",
    "sigma = X.std(axis=0)\n",
    "X = (X - mu) / sigma\n",
    "\n",
    "# Diviser les données en train, validation et test\n",
    "X_temp, X_test, y_temp, y_test = train_test_split(X, y, test_size=0.2, stratify=y, random_state=42)\n",
    "X_train, X_val, y_train, y_val = train_test_split(X_temp, y_temp, test_size=0.25, stratify=y_temp, random_state=42)  # 0.25 x 0.8 = 0.2\n",
    "\n",
    "assert X_train.shape[0] + X_val.shape[0] + X_test.shape[0] == X.shape[0], \"Train-val-test split sizes must sum to total samples\"\n",
    "\n"
   ]
  },
  {
   "cell_type": "code",
   "execution_count": null,
   "id": "212bb36c-278a-408d-a6f2-39b87efe7187",
   "metadata": {},
   "outputs": [],
   "source": []
  },
  {
   "cell_type": "markdown",
   "id": "78648375-a8b6-4df2-bd2f-93159a1ce006",
   "metadata": {},
   "source": [
    "# entrainement avec learning rate 0.01  l2_lambda=0.001"
   ]
  },
  {
   "cell_type": "code",
   "execution_count": 261,
   "id": "0b37505d-9573-4676-b929-9ceca6a47c17",
   "metadata": {},
   "outputs": [
    {
     "name": "stdout",
     "output_type": "stream",
     "text": [
      "Epoch 0, Train Loss: 0.6871, Val Loss: 0.6572, Train Acc: 0.6522, Val Acc: 0.6494\n",
      "Epoch 10, Train Loss: 0.6775, Val Loss: 0.6513, Train Acc: 0.6522, Val Acc: 0.6494\n",
      "Epoch 20, Train Loss: 0.6732, Val Loss: 0.6460, Train Acc: 0.6522, Val Acc: 0.6494\n",
      "Epoch 30, Train Loss: 0.6705, Val Loss: 0.6408, Train Acc: 0.6522, Val Acc: 0.6494\n",
      "Epoch 40, Train Loss: 0.6704, Val Loss: 0.6357, Train Acc: 0.6522, Val Acc: 0.6494\n",
      "Epoch 50, Train Loss: 0.6564, Val Loss: 0.6305, Train Acc: 0.6522, Val Acc: 0.6494\n",
      "Epoch 60, Train Loss: 0.6567, Val Loss: 0.6252, Train Acc: 0.6522, Val Acc: 0.6494\n",
      "Epoch 70, Train Loss: 0.6554, Val Loss: 0.6198, Train Acc: 0.6522, Val Acc: 0.6494\n",
      "Epoch 80, Train Loss: 0.6454, Val Loss: 0.6142, Train Acc: 0.6522, Val Acc: 0.6494\n",
      "Epoch 90, Train Loss: 0.6419, Val Loss: 0.6083, Train Acc: 0.6522, Val Acc: 0.6494\n",
      "\n",
      "Rapport de classification (Test set) :\n",
      "              precision    recall  f1-score   support\n",
      "\n",
      "           0       0.65      1.00      0.79       100\n",
      "           1       0.00      0.00      0.00        54\n",
      "\n",
      "    accuracy                           0.65       154\n",
      "   macro avg       0.32      0.50      0.39       154\n",
      "weighted avg       0.42      0.65      0.51       154\n",
      "\n"
     ]
    },
    {
     "name": "stderr",
     "output_type": "stream",
     "text": [
      "C:\\ProgramData\\anaconda3\\Lib\\site-packages\\sklearn\\metrics\\_classification.py:1531: UndefinedMetricWarning: Precision is ill-defined and being set to 0.0 in labels with no predicted samples. Use `zero_division` parameter to control this behavior.\n",
      "  _warn_prf(average, modifier, f\"{metric.capitalize()} is\", len(result))\n",
      "C:\\ProgramData\\anaconda3\\Lib\\site-packages\\sklearn\\metrics\\_classification.py:1531: UndefinedMetricWarning: Precision is ill-defined and being set to 0.0 in labels with no predicted samples. Use `zero_division` parameter to control this behavior.\n",
      "  _warn_prf(average, modifier, f\"{metric.capitalize()} is\", len(result))\n",
      "C:\\ProgramData\\anaconda3\\Lib\\site-packages\\sklearn\\metrics\\_classification.py:1531: UndefinedMetricWarning: Precision is ill-defined and being set to 0.0 in labels with no predicted samples. Use `zero_division` parameter to control this behavior.\n",
      "  _warn_prf(average, modifier, f\"{metric.capitalize()} is\", len(result))\n"
     ]
    }
   ],
   "source": [
    "# Créer et entraîner le modèle ... learning rate 0.01\n",
    "layer_sizes = [X_train.shape[1], 16, 8, 1]\n",
    "nn = NeuralNetwork(layer_sizes, learning_rate=0.01, l2_lambda=0.001)\n",
    "\n",
    "train_losses, val_losses, train_accuracies, val_accuracies = nn.train(X_train, y_train, X_val, y_val, epochs=100, batch_size=32)\n",
    "\n",
    "# Prédictions et évaluation\n",
    "y_pred = nn.predict(X_test)\n",
    "print(\"\\nRapport de classification (Test set) :\")\n",
    "print(classification_report(y_test, y_pred))\n"
   ]
  },
  {
   "cell_type": "markdown",
   "id": "3d63e986-11f9-49f5-ab94-d00522e8b195",
   "metadata": {},
   "source": [
    "# entrainement avec learning rate 0.1  l2_lambda=0.001"
   ]
  },
  {
   "cell_type": "code",
   "execution_count": 262,
   "id": "8f129498-296c-4a82-8e76-9f9c158207f1",
   "metadata": {},
   "outputs": [
    {
     "name": "stdout",
     "output_type": "stream",
     "text": [
      "Epoch 0, Train Loss: 0.6862, Val Loss: 0.6519, Train Acc: 0.6522, Val Acc: 0.6494\n",
      "Epoch 10, Train Loss: 0.6327, Val Loss: 0.5971, Train Acc: 0.6522, Val Acc: 0.6494\n",
      "Epoch 20, Train Loss: 0.5762, Val Loss: 0.5315, Train Acc: 0.7109, Val Acc: 0.7338\n",
      "Epoch 30, Train Loss: 0.5340, Val Loss: 0.4818, Train Acc: 0.7413, Val Acc: 0.7922\n",
      "Epoch 40, Train Loss: 0.5234, Val Loss: 0.4626, Train Acc: 0.7717, Val Acc: 0.7532\n",
      "Epoch 50, Train Loss: 0.4893, Val Loss: 0.4495, Train Acc: 0.7848, Val Acc: 0.7792\n",
      "Epoch 60, Train Loss: 0.4788, Val Loss: 0.4481, Train Acc: 0.7957, Val Acc: 0.7662\n",
      "Epoch 70, Train Loss: 0.4813, Val Loss: 0.4494, Train Acc: 0.7957, Val Acc: 0.7662\n",
      "Epoch 80, Train Loss: 0.4778, Val Loss: 0.4503, Train Acc: 0.8000, Val Acc: 0.7792\n",
      "Epoch 90, Train Loss: 0.4727, Val Loss: 0.4512, Train Acc: 0.8022, Val Acc: 0.7727\n",
      "\n",
      "Rapport de classification (Test set) :\n",
      "              precision    recall  f1-score   support\n",
      "\n",
      "           0       0.79      0.79      0.79       100\n",
      "           1       0.61      0.61      0.61        54\n",
      "\n",
      "    accuracy                           0.73       154\n",
      "   macro avg       0.70      0.70      0.70       154\n",
      "weighted avg       0.73      0.73      0.73       154\n",
      "\n"
     ]
    }
   ],
   "source": [
    "# Créer et entraîner le modèle ... learning rate 0.1\n",
    "layer_sizes = [X_train.shape[1], 16, 8, 1]\n",
    "nn = NeuralNetwork(layer_sizes, learning_rate=0.1, l2_lambda=0.001)\n",
    "\n",
    "train_losses, val_losses, train_accuracies, val_accuracies = nn.train(X_train, y_train, X_val, y_val, epochs=100, batch_size=32)\n",
    "\n",
    "# Prédictions et évaluation\n",
    "y_pred = nn.predict(X_test)\n",
    "print(\"\\nRapport de classification (Test set) :\")\n",
    "print(classification_report(y_test, y_pred))\n"
   ]
  },
  {
   "cell_type": "markdown",
   "id": "30fb0952-12a6-4ce6-8f20-b56ade70b42c",
   "metadata": {},
   "source": [
    "# entrainement avec learning rate 1  l2_lambda=0.001"
   ]
  },
  {
   "cell_type": "code",
   "execution_count": 263,
   "id": "3e50b4a8-e71e-446d-ba54-5af8cf21a4b3",
   "metadata": {},
   "outputs": [
    {
     "name": "stdout",
     "output_type": "stream",
     "text": [
      "Epoch 0, Train Loss: 0.6925, Val Loss: 0.6059, Train Acc: 0.6522, Val Acc: 0.6494\n",
      "Epoch 10, Train Loss: 0.4797, Val Loss: 0.4484, Train Acc: 0.8022, Val Acc: 0.7792\n",
      "Epoch 20, Train Loss: 0.4630, Val Loss: 0.4655, Train Acc: 0.8043, Val Acc: 0.7857\n",
      "Epoch 30, Train Loss: 0.4644, Val Loss: 0.4513, Train Acc: 0.8130, Val Acc: 0.7792\n",
      "Epoch 40, Train Loss: 0.4610, Val Loss: 0.6178, Train Acc: 0.6804, Val Acc: 0.6948\n",
      "Epoch 50, Train Loss: 0.4367, Val Loss: 0.4569, Train Acc: 0.8217, Val Acc: 0.7857\n",
      "Epoch 60, Train Loss: 0.4296, Val Loss: 0.4763, Train Acc: 0.7891, Val Acc: 0.7403\n",
      "Epoch 70, Train Loss: 0.4272, Val Loss: 0.5514, Train Acc: 0.7739, Val Acc: 0.7338\n",
      "Epoch 80, Train Loss: 0.4237, Val Loss: 0.4913, Train Acc: 0.8326, Val Acc: 0.7597\n",
      "Epoch 90, Train Loss: 0.4254, Val Loss: 0.5212, Train Acc: 0.8391, Val Acc: 0.7468\n",
      "\n",
      "Rapport de classification (Test set) :\n",
      "              precision    recall  f1-score   support\n",
      "\n",
      "           0       0.91      0.60      0.72       100\n",
      "           1       0.55      0.89      0.68        54\n",
      "\n",
      "    accuracy                           0.70       154\n",
      "   macro avg       0.73      0.74      0.70       154\n",
      "weighted avg       0.78      0.70      0.71       154\n",
      "\n"
     ]
    }
   ],
   "source": [
    "# Créer et entraîner le modèle ... learning rate 1\n",
    "layer_sizes = [X_train.shape[1], 16, 8, 1]\n",
    "nn = NeuralNetwork(layer_sizes, learning_rate=1, l2_lambda=0.001)\n",
    "\n",
    "train_losses, val_losses, train_accuracies, val_accuracies = nn.train(X_train, y_train, X_val, y_val, epochs=100, batch_size=32)\n",
    "\n",
    "# Prédictions et évaluation\n",
    "y_pred = nn.predict(X_test)\n",
    "print(\"\\nRapport de classification (Test set) :\")\n",
    "print(classification_report(y_test, y_pred))\n"
   ]
  },
  {
   "cell_type": "markdown",
   "id": "1d9fc9a0-3950-4c06-98c1-5e14d97b04dc",
   "metadata": {},
   "source": [
    "# entrainement avec learning rate 1  l2_lambda=0.007"
   ]
  },
  {
   "cell_type": "code",
   "execution_count": 264,
   "id": "dbe35a0b-e0c3-4e35-a906-a40579bc04d0",
   "metadata": {},
   "outputs": [
    {
     "name": "stdout",
     "output_type": "stream",
     "text": [
      "Epoch 0, Train Loss: 0.6619, Val Loss: 0.5287, Train Acc: 0.7326, Val Acc: 0.7403\n",
      "Epoch 10, Train Loss: 0.4909, Val Loss: 0.4605, Train Acc: 0.8000, Val Acc: 0.7792\n",
      "Epoch 20, Train Loss: 0.4774, Val Loss: 0.4579, Train Acc: 0.8109, Val Acc: 0.7792\n",
      "Epoch 30, Train Loss: 0.4698, Val Loss: 0.4624, Train Acc: 0.8130, Val Acc: 0.7857\n",
      "Epoch 40, Train Loss: 0.4554, Val Loss: 0.4722, Train Acc: 0.8130, Val Acc: 0.7792\n",
      "Epoch 50, Train Loss: 0.4493, Val Loss: 0.4679, Train Acc: 0.8217, Val Acc: 0.7662\n",
      "Epoch 60, Train Loss: 0.4363, Val Loss: 0.4812, Train Acc: 0.8217, Val Acc: 0.7727\n",
      "Epoch 70, Train Loss: 0.4473, Val Loss: 0.4980, Train Acc: 0.8239, Val Acc: 0.7662\n",
      "Epoch 80, Train Loss: 0.4295, Val Loss: 0.5201, Train Acc: 0.8152, Val Acc: 0.7532\n",
      "Epoch 90, Train Loss: 0.4128, Val Loss: 0.5170, Train Acc: 0.8304, Val Acc: 0.7662\n",
      "\n",
      "Rapport de classification (Test set) :\n",
      "              precision    recall  f1-score   support\n",
      "\n",
      "           0       0.83      0.81      0.82       100\n",
      "           1       0.66      0.69      0.67        54\n",
      "\n",
      "    accuracy                           0.77       154\n",
      "   macro avg       0.74      0.75      0.75       154\n",
      "weighted avg       0.77      0.77      0.77       154\n",
      "\n"
     ]
    }
   ],
   "source": [
    "# Créer et entraîner le modèle ... learning rate 1\n",
    "layer_sizes = [X_train.shape[1], 8, 1]\n",
    "nn = NeuralNetwork(layer_sizes, learning_rate=1, l2_lambda=0.007)\n",
    "\n",
    "train_losses, val_losses, train_accuracies, val_accuracies = nn.train(X_train, y_train, X_val, y_val, epochs=100, batch_size=32)\n",
    "\n",
    "# Prédictions et évaluation\n",
    "y_pred = nn.predict(X_test)\n",
    "print(\"\\nRapport de classification (Test set) :\")\n",
    "print(classification_report(y_test, y_pred))"
   ]
  },
  {
   "cell_type": "code",
   "execution_count": 265,
   "id": "6745b14e-352e-4d18-a3a7-b095f23c76b4",
   "metadata": {},
   "outputs": [
    {
     "name": "stdout",
     "output_type": "stream",
     "text": [
      "Epoch 0, Train Loss: 0.6978, Val Loss: 0.6070, Train Acc: 0.6522, Val Acc: 0.6494\n",
      "Epoch 10, Train Loss: 0.4880, Val Loss: 0.4497, Train Acc: 0.8022, Val Acc: 0.7792\n",
      "Epoch 20, Train Loss: 0.4731, Val Loss: 0.4677, Train Acc: 0.8043, Val Acc: 0.7857\n",
      "Epoch 30, Train Loss: 0.4769, Val Loss: 0.4523, Train Acc: 0.8065, Val Acc: 0.7792\n",
      "Epoch 40, Train Loss: 0.4749, Val Loss: 0.6275, Train Acc: 0.6674, Val Acc: 0.6818\n",
      "Epoch 50, Train Loss: 0.4536, Val Loss: 0.4560, Train Acc: 0.8174, Val Acc: 0.7857\n",
      "Epoch 60, Train Loss: 0.4505, Val Loss: 0.4714, Train Acc: 0.7913, Val Acc: 0.7338\n",
      "Epoch 70, Train Loss: 0.4518, Val Loss: 0.5408, Train Acc: 0.7587, Val Acc: 0.7403\n",
      "Epoch 80, Train Loss: 0.4511, Val Loss: 0.4780, Train Acc: 0.8174, Val Acc: 0.7792\n",
      "Epoch 90, Train Loss: 0.4576, Val Loss: 0.5015, Train Acc: 0.8391, Val Acc: 0.7662\n",
      "\n",
      "Rapport de classification (Test set) :\n",
      "              precision    recall  f1-score   support\n",
      "\n",
      "           0       0.89      0.59      0.71       100\n",
      "           1       0.53      0.87      0.66        54\n",
      "\n",
      "    accuracy                           0.69       154\n",
      "   macro avg       0.71      0.73      0.69       154\n",
      "weighted avg       0.77      0.69      0.69       154\n",
      "\n"
     ]
    }
   ],
   "source": [
    "# Créer et entraîner le modèle ... learning rate 1\n",
    "layer_sizes = [X_train.shape[1], 16, 8, 1]\n",
    "nn = NeuralNetwork(layer_sizes, learning_rate=1, l2_lambda=0.007)\n",
    "\n",
    "train_losses, val_losses, train_accuracies, val_accuracies = nn.train(X_train, y_train, X_val, y_val, epochs=100, batch_size=32)\n",
    "\n",
    "# Prédictions et évaluation\n",
    "y_pred = nn.predict(X_test)\n",
    "print(\"\\nRapport de classification (Test set) :\")\n",
    "print(classification_report(y_test, y_pred))\n"
   ]
  },
  {
   "cell_type": "code",
   "execution_count": null,
   "id": "8c8865a0-4519-41c5-a303-b20705263b90",
   "metadata": {},
   "outputs": [],
   "source": [
    "\n"
   ]
  },
  {
   "cell_type": "code",
   "execution_count": 266,
   "id": "8fc996d0-c381-4512-a120-77b83a3239fb",
   "metadata": {},
   "outputs": [
    {
     "name": "stdout",
     "output_type": "stream",
     "text": [
      "Epoch 0, Train Loss: 0.6799, Val Loss: 0.6601, Train Acc: 0.6522, Val Acc: 0.6494\n",
      "Epoch 10, Train Loss: 0.4914, Val Loss: 0.4559, Train Acc: 0.7978, Val Acc: 0.7792\n",
      "Epoch 20, Train Loss: 0.4801, Val Loss: 0.4785, Train Acc: 0.8022, Val Acc: 0.7922\n",
      "Epoch 30, Train Loss: 0.4878, Val Loss: 0.4650, Train Acc: 0.8065, Val Acc: 0.7662\n",
      "Epoch 40, Train Loss: 0.4841, Val Loss: 0.6526, Train Acc: 0.6565, Val Acc: 0.6818\n",
      "Epoch 50, Train Loss: 0.4609, Val Loss: 0.4584, Train Acc: 0.8022, Val Acc: 0.7857\n",
      "Epoch 60, Train Loss: 0.4607, Val Loss: 0.4718, Train Acc: 0.7957, Val Acc: 0.7532\n",
      "Epoch 70, Train Loss: 0.4618, Val Loss: 0.4992, Train Acc: 0.7674, Val Acc: 0.7662\n",
      "Epoch 80, Train Loss: 0.4599, Val Loss: 0.4667, Train Acc: 0.8174, Val Acc: 0.7468\n",
      "Epoch 90, Train Loss: 0.4607, Val Loss: 0.4724, Train Acc: 0.8283, Val Acc: 0.7857\n",
      "\n",
      "Rapport de classification (Test set) :\n",
      "              precision    recall  f1-score   support\n",
      "\n",
      "           0       0.90      0.64      0.75       100\n",
      "           1       0.57      0.87      0.69        54\n",
      "\n",
      "    accuracy                           0.72       154\n",
      "   macro avg       0.73      0.76      0.72       154\n",
      "weighted avg       0.78      0.72      0.73       154\n",
      "\n"
     ]
    }
   ],
   "source": [
    "# Créer et entraîner le modèle ... learning rate 1\n",
    "layer_sizes = [X_train.shape[1], 17, 8, 1]\n",
    "nn = NeuralNetwork(layer_sizes, learning_rate=1, l2_lambda=0.007)\n",
    "\n",
    "train_losses, val_losses, train_accuracies, val_accuracies = nn.train(X_train, y_train, X_val, y_val, epochs=100, batch_size=32)\n",
    "\n",
    "# Prédictions et évaluation\n",
    "y_pred = nn.predict(X_test)\n",
    "print(\"\\nRapport de classification (Test set) :\")\n",
    "print(classification_report(y_test, y_pred))\n"
   ]
  },
  {
   "cell_type": "code",
   "execution_count": null,
   "id": "bace3a0b-3d07-4b5f-a253-c88be3bbae57",
   "metadata": {},
   "outputs": [],
   "source": []
  },
  {
   "cell_type": "code",
   "execution_count": 267,
   "id": "dc9b67e1-9bae-48e0-985a-ef2e1e72912e",
   "metadata": {},
   "outputs": [
    {
     "name": "stdout",
     "output_type": "stream",
     "text": [
      "Epoch 0, Train Loss: 0.6978, Val Loss: 0.6070, Train Acc: 0.6522, Val Acc: 0.6494\n",
      "Epoch 10, Train Loss: 0.4880, Val Loss: 0.4497, Train Acc: 0.8022, Val Acc: 0.7792\n",
      "Epoch 20, Train Loss: 0.4731, Val Loss: 0.4677, Train Acc: 0.8043, Val Acc: 0.7857\n",
      "Epoch 30, Train Loss: 0.4769, Val Loss: 0.4523, Train Acc: 0.8065, Val Acc: 0.7792\n",
      "Epoch 40, Train Loss: 0.4749, Val Loss: 0.6275, Train Acc: 0.6674, Val Acc: 0.6818\n",
      "Epoch 50, Train Loss: 0.4536, Val Loss: 0.4560, Train Acc: 0.8174, Val Acc: 0.7857\n",
      "Epoch 60, Train Loss: 0.4505, Val Loss: 0.4714, Train Acc: 0.7913, Val Acc: 0.7338\n",
      "Epoch 70, Train Loss: 0.4518, Val Loss: 0.5408, Train Acc: 0.7587, Val Acc: 0.7403\n",
      "Epoch 80, Train Loss: 0.4511, Val Loss: 0.4780, Train Acc: 0.8174, Val Acc: 0.7792\n",
      "Epoch 90, Train Loss: 0.4576, Val Loss: 0.5015, Train Acc: 0.8391, Val Acc: 0.7662\n",
      "\n",
      "Rapport de classification (Test set) :\n",
      "              precision    recall  f1-score   support\n",
      "\n",
      "           0       0.89      0.59      0.71       100\n",
      "           1       0.53      0.87      0.66        54\n",
      "\n",
      "    accuracy                           0.69       154\n",
      "   macro avg       0.71      0.73      0.69       154\n",
      "weighted avg       0.77      0.69      0.69       154\n",
      "\n"
     ]
    },
    {
     "data": {
      "image/png": "[encoded data removed]",
      "text/plain": [
       "<Figure size 600x500 with 2 Axes>"
      ]
     },
     "metadata": {},
     "output_type": "display_data"
    },
    {
     "data": {
      "image/png": "[encoded data removed]",
      "text/plain": [
       "<Figure size 1200x500 with 2 Axes>"
      ]
     },
     "metadata": {},
     "output_type": "display_data"
    }
   ],
   "source": [
    "# Créer et entraîner le modèle\n",
    "layer_sizes = [X_train.shape[1], 16, 8, 1]\n",
    "nn = NeuralNetwork(layer_sizes, learning_rate=1, l2_lambda=0.007)\n",
    "\n",
    "train_losses, val_losses, train_accuracies, val_accuracies = nn.train(X_train, y_train, X_val, y_val, epochs=100, batch_size=32)\n",
    "\n",
    "# Prédictions et évaluation\n",
    "y_pred = nn.predict(X_test)\n",
    "print(\"\\nRapport de classification (Test set) :\")\n",
    "print(classification_report(y_test, y_pred))\n",
    "\n",
    "# Matrice de confusion\n",
    "cm = confusion_matrix(y_test, y_pred)\n",
    "plt.figure(figsize=(6,5))\n",
    "plt.title(\"Matrice de confusion\")\n",
    "plt.imshow(cm, interpolation='nearest', cmap=plt.cm.Blues)\n",
    "plt.colorbar()\n",
    "plt.xlabel('Prédiction')\n",
    "plt.ylabel('Vérité terrain')\n",
    "plt.xticks([0,1])\n",
    "plt.yticks([0,1])\n",
    "for i in range(cm.shape[0]):\n",
    "    for j in range(cm.shape[1]):\n",
    "        plt.text(j, i, cm[i,j], ha='center', va='center', color='red')\n",
    "plt.show()\n",
    "\n",
    "# Courbes de perte et d'accuracy\n",
    "fig, (ax1, ax2) = plt.subplots(1, 2, figsize=(12, 5))\n",
    "\n",
    "# Courbe de perte\n",
    "ax1.plot(train_losses, label='Train Loss')\n",
    "ax1.plot(val_losses, label='Validation Loss')\n",
    "ax1.set_title(\"Loss au cours des epochs\")\n",
    "ax1.set_xlabel(\"Epoch\")\n",
    "ax1.set_ylabel(\"Loss\")\n",
    "ax1.legend()\n",
    "\n",
    "# Courbe d'accuracy\n",
    "ax2.plot(train_accuracies, label='Train Accuracy')\n",
    "ax2.plot(val_accuracies, label='Validation Accuracy')\n",
    "ax2.set_title(\"Accuracy au cours des epochs\")\n",
    "ax2.set_xlabel(\"Epoch\")\n",
    "ax2.set_ylabel(\"Accuracy\")\n",
    "ax2.legend()\n",
    "\n",
    "plt.show()\n"
   ]
  },
  {
   "cell_type": "code",
   "execution_count": null,
   "id": "f6951234-013c-48aa-b495-083107b27b6e",
   "metadata": {},
   "outputs": [],
   "source": []
  },
  {
   "cell_type": "code",
   "execution_count": null,
   "id": "7eba1bf5-fd2d-4a48-8848-0619535798ef",
   "metadata": {},
   "outputs": [],
   "source": []
  },
  {
   "cell_type": "code",
   "execution_count": null,
   "id": "2f79e74f-2540-4ef8-a22d-484c5607e825",
   "metadata": {},
   "outputs": [],
   "source": []
  },
  {
   "cell_type": "code",
   "execution_count": null,
   "id": "405555db-a67f-4a01-8ecd-dfd113eb4ac0",
   "metadata": {},
   "outputs": [],
   "source": []
  },
  {
   "cell_type": "code",
   "execution_count": null,
   "id": "b33e3604-c3dd-42c6-b284-8a84864c5e3a",
   "metadata": {},
   "outputs": [],
   "source": []
  },
  {
   "cell_type": "code",
   "execution_count": null,
   "id": "10a082f8-a332-4f26-85ca-3920dc635373",
   "metadata": {},
   "outputs": [],
   "source": []
  },
  {
   "cell_type": "code",
   "execution_count": null,
   "id": "9f518a27-a000-4a27-9f9f-c888523c1bc8",
   "metadata": {},
   "outputs": [],
   "source": []
  },
  {
   "cell_type": "code",
   "execution_count": null,
   "id": "3cfeb7bc-9083-4eba-b8b3-18454bdd1def",
   "metadata": {},
   "outputs": [],
   "source": []
  },
  {
   "cell_type": "code",
   "execution_count": null,
   "id": "e8aeb553-ae66-4c92-9bb0-3804c4907403",
   "metadata": {},
   "outputs": [],
   "source": []
  },
  {
   "cell_type": "code",
   "execution_count": null,
   "id": "987ed15d-732d-44d0-b002-57f7356feafc",
   "metadata": {},
   "outputs": [],
   "source": []
  },
  {
   "cell_type": "code",
   "execution_count": null,
   "id": "049e7111-5783-4a25-95be-c0a703c5f6a4",
   "metadata": {},
   "outputs": [],
   "source": []
  },
  {
   "cell_type": "code",
   "execution_count": null,
   "id": "71622f7a-85c9-4a81-8bfb-4bd1172875e9",
   "metadata": {},
   "outputs": [],
   "source": []
  }
 ],
 "metadata": {
  "kernelspec": {
   "display_name": "Python 3 (ipykernel)",
   "language": "python",
   "name": "python3"
  },
  "language_info": {
   "codemirror_mode": {
    "name": "ipython",
    "version": 3
   },
   "file_extension": ".py",
   "mimetype": "text/x-python",
   "name": "python",
   "nbconvert_exporter": "python",
   "pygments_lexer": "ipython3",
   "version": "3.12.7"
  }
 },
 "nbformat": 4,
 "nbformat_minor": 5
}
